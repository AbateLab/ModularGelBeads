{
 "cells": [
  {
   "cell_type": "code",
   "execution_count": 1,
   "metadata": {},
   "outputs": [],
   "source": [
    "import os\n",
    "import sys\n",
    "import random\n",
    "from collections import Counter\n",
    "import Levenshtein\n",
    "\n",
    "import numpy as np\n",
    "import matplotlib.pyplot as plt\n"
   ]
  },
  {
   "cell_type": "code",
   "execution_count": 2,
   "metadata": {},
   "outputs": [],
   "source": [
    "extender = ['AGT', 'GT', 'T', '']"
   ]
  },
  {
   "cell_type": "code",
   "execution_count": 3,
   "metadata": {},
   "outputs": [],
   "source": [
    "complement = {'A': 'T', 'C': 'G', 'G': 'C', 'T': 'A', \n",
    "              'U': 'A', 'R': 'Y', 'Y': 'R', 'M': 'K', \n",
    "              'K': 'M', 'B': 'V', 'V': 'B', 'D': 'H', \n",
    "              'H': 'D'}\n",
    "\n",
    "def rev_complement(seq, comp_dic = complement):\n",
    "    return \"\".join(comp_dic.get(base, base) for base in reversed(seq))"
   ]
  },
  {
   "cell_type": "code",
   "execution_count": 4,
   "metadata": {},
   "outputs": [],
   "source": [
    "def load_edit_coad(length, levensthein_distance):\n",
    "    with open('./DNA_Edit_Barcodes', 'r') as f:\n",
    "        flag = 0\n",
    "        data = []\n",
    "        for line in f:\n",
    "            if line.strip() == '' and flag == 1:\n",
    "                return data\n",
    "            if flag == 1:\n",
    "                data.append(line.strip().split(':')[1])\n",
    "            if line.strip() == '[{}nt ed{}]'.format(length, levensthein_distance):\n",
    "                flag = 1   \n",
    "        if flag == 0:\n",
    "            print('[{}nt ed{}] was no  found in file'.format(length, levensthein_distance))\n",
    "            return data\n",
    "    return data"
   ]
  },
  {
   "cell_type": "code",
   "execution_count": 5,
   "metadata": {
    "scrolled": false
   },
   "outputs": [
    {
     "name": "stdout",
     "output_type": "stream",
     "text": [
      "removed AAGGCGTT AACGCCTT 2\n",
      "removed CACTAGTC GACTAGTG 2\n",
      "removed CCTATAGC GCTATAGG 2\n",
      "removed CGATATCC GGATATCG 2\n",
      "removed GTGAAGGA TCCTTCAC TCCTTCAC 0\n",
      "removed TTGCGGAA TTCCGCAA 2\n",
      "3 GAGTCATC GATGACTC\n",
      "1 TACGGTGT TACGGTCT\n",
      "1 TTAAGGCG TTAACGCG\n",
      "3 CCATTGGA TCCAATGG\n",
      "3 ACCTGGTT AACCAGGT\n",
      "1 CCTTACTG CCATACTG\n",
      "1 AGACCGTA ACACCGTA\n",
      "1 GCACGTAT GGACGTAT\n",
      "1 CGCGTTAA CGCCTTAA\n",
      "1 ATACGTCC ATACGTGC\n",
      "1 CAGTATGG CAGTAAGG\n",
      "3 GGTTACAC GTGTAACC\n",
      "3 TAGGACCT AGGTCCTA\n",
      "3 GTTCTGAC GTCAGAAC\n",
      "96\n"
     ]
    },
    {
     "data": {
      "image/png": "[encoded data removed]",
      "text/plain": [
       "<Figure size 432x288 with 1 Axes>"
      ]
     },
     "metadata": {
      "needs_background": "light"
     },
     "output_type": "display_data"
    }
   ],
   "source": [
    "a = load_edit_coad(8,4)\n",
    "\n",
    "# remove bc which are within 2 edit distance of their complement or complements of other barcodes\n",
    "bad = []\n",
    "dist = np.zeros([len(a),len(a)]) + np.inf\n",
    "for i, bc in enumerate(a):\n",
    "    for j, bc2 in enumerate(a):\n",
    "        d = Levenshtein.distance(rev_complement(bc), bc2)\n",
    "        if d < 1:\n",
    "            #a.remove(bc2)\n",
    "            a.remove(bc)\n",
    "            print('removed', bc,rev_complement(bc), bc2, d)\n",
    "            bad.append(bc)\n",
    "        if i == j and d < 3:\n",
    "            a.remove(bc)\n",
    "            print('removed', bc2, rev_complement(bc), d)\n",
    "            bad.append(bc)\n",
    "\n",
    "a = list(set(a)-set(bad))\n",
    "  \n",
    "not_top = []         \n",
    "for i, bc in enumerate(a):\n",
    "    for j, bc2 in enumerate(a):\n",
    "        d = Levenshtein.distance(rev_complement(bc), bc2)\n",
    "        if (i == j and d==3) or d==1:\n",
    "            print(d, rev_complement(bc), bc2)\n",
    "            dist[i,j] = d\n",
    "            not_top.append(bc)\n",
    "        else:\n",
    "            dist[i,j] = d  \n",
    "\n",
    "a.remove('TCCAATGG') # to much self complementary for my taste\n",
    "\n",
    "print(len(a))    \n",
    "plt.plot(np.min(dist, axis=0), 'o')\n",
    "plt.show()\n"
   ]
  },
  {
   "cell_type": "code",
   "execution_count": 6,
   "metadata": {
    "scrolled": true
   },
   "outputs": [
    {
     "name": "stdout",
     "output_type": "stream",
     "text": [
      "0.5\n"
     ]
    }
   ],
   "source": [
    "GC = np.zeros(len(a))\n",
    "for i, bc in enumerate(a):\n",
    "    temp = Counter(bc)\n",
    "    GC[i] = (temp['G'] + temp['C'])/len(bc)\n",
    "print(np.min(GC))"
   ]
  },
  {
   "cell_type": "code",
   "execution_count": 7,
   "metadata": {},
   "outputs": [],
   "source": [
    "#   T7 promoter: TAATACGACTCACTATAGGG, PE2c: AAATGCCGATTCCTGCTGAAC\n",
    "\n",
    "pBB1 = 'ACTAACAATAAGCTC UAU CGATGACC TAATACGACTCACTATAGGG AC AAATGCCGATTCCTGCTGAAC' # /5Acryd/\n"
   ]
  },
  {
   "cell_type": "code",
   "execution_count": 8,
   "metadata": {},
   "outputs": [],
   "source": [
    "def part1(scar0, scar1, ext, BC1):\n",
    "    return '{} {} {} {}'.format(scar0, ext, BC1, scar1), rev_complement('{} {}'.format(ext, BC1))\n",
    "\n",
    "def part2(scar1, scar2, BC2):\n",
    "    return '{}'.format(BC2), rev_complement('{} {} {}'.format(scar1, BC2, scar2))\n",
    "\n",
    "def part3(scar2, scar3, BC3):\n",
    "    return '{} {} {}'.format(scar2, BC3, scar3), rev_complement('{}'.format(BC3))\n",
    "\n",
    "def scar_assembler(scars):\n",
    "    scar_dist1 = np.zeros([len(scars), len(scars)])\n",
    "    scar_dist2 = np.zeros([len(scars), len(scars)])\n",
    "    scars1 = []\n",
    "    scars2 = []\n",
    "    for i, sc1 in enumerate(scars):\n",
    "        for j, sc2 in enumerate(scars):\n",
    "            scar1 = ''\n",
    "            for k,l in zip(sc1,sc2[::-1]):\n",
    "                scar1 += l\n",
    "                if k==complement[l]:\n",
    "                    scar_dist1[i,j] += 1\n",
    "            scars1.append(scar1)\n",
    "            scar2 = ''\n",
    "            for k,l in zip(sc1,rev_complement(sc2)[::-1]):\n",
    "                scar2 += l\n",
    "                if k==complement[l]:\n",
    "                    scar_dist2[i,j] += 1\n",
    "            scars2.append(scar2)\n",
    "    return scar_dist1, scar_dist2, scars1, scars2\n",
    "\n",
    "def barcode_from_file(path):\n",
    "    with open(path, 'r') as f:\n",
    "        barcodes = [line.split(',')[-1].strip() for line in f][1:]\n",
    "    return barcodes"
   ]
  },
  {
   "cell_type": "code",
   "execution_count": 9,
   "metadata": {},
   "outputs": [
    {
     "name": "stdout",
     "output_type": "stream",
     "text": [
      "('GTCA GAT AGCATGGA AACC', 'TCCATGCT ATC')\n",
      "('AATGCAGC', 'CTGT GCTGCATT GGTT')\n",
      "('ACAG AATGCAGC AGGA', 'GCTGCATT') TCCT\n"
     ]
    },
    {
     "data": {
      "image/png": "[encoded data removed]",
      "text/plain": [
       "<Figure size 432x432 with 2 Axes>"
      ]
     },
     "metadata": {
      "needs_background": "light"
     },
     "output_type": "display_data"
    },
    {
     "data": {
      "image/png": "[encoded data removed]",
      "text/plain": [
       "<Figure size 432x432 with 2 Axes>"
      ]
     },
     "metadata": {
      "needs_background": "light"
     },
     "output_type": "display_data"
    }
   ],
   "source": [
    "\n",
    "\n",
    "scars = load_edit_coad(4,3)\n",
    "#scars.remove('CGAT') # might crosstalk \n",
    "#scars.remove('TGTG') # might crosstalk \n",
    "#scars.remove('AGGA') # worst of the remaining\n",
    "scars2 = [rev_complement(scars[-1]), 'CGAT', 'TGTG', 'AGGA'] # for cluster beads\n",
    "\n",
    "\n",
    "d1, d2, sc1, sc2 = scar_assembler(scars)\n",
    "\n",
    "fig, ax1 = plt.subplots(1,1, figsize=(6,6))\n",
    "im1 = ax1.imshow(d1, cmap='Greys', vmin=0, vmax=4)\n",
    "ax1.set_xticks(range(len(scars)))\n",
    "ax1.set_xticklabels(['5\\'-'+ i + '-3\\'' for i in scars], rotation=30)\n",
    "ax1.set_yticks(range(len(scars)))\n",
    "ax1.set_yticklabels(['3\\'-'+ i + '-5\\'' for i in sc1], rotation=0)\n",
    "ax1.set_xlabel('codes')\n",
    "ax1.set_ylabel('codes reverse')\n",
    "plt.colorbar(im1)\n",
    "#plt.savefig('4bp_code_distance.svg')\n",
    "\n",
    "\n",
    "fig, ax2 = plt.subplots(1,1, figsize=(6,6))\n",
    "im2 = ax2.imshow(d2, cmap='Greys', vmin=0, vmax=4)\n",
    "ax2.set_xticks(range(len(scars)))\n",
    "ax2.set_xticklabels(['5\\'-'+ i + '-3\\'' for i in scars], rotation=30)\n",
    "ax2.set_yticks(range(len(scars)))\n",
    "ax2.set_yticklabels(['3\\'-'+ i + '-5\\'' for i in sc2], rotation=0)\n",
    "ax2.set_xlabel('codes')\n",
    "ax2.set_ylabel('codes reverse complement')\n",
    "plt.colorbar(im2)\n",
    "#plt.savefig('4bp_code_distance_complement.svg')\n",
    "\n",
    "print(part1(scar0=scars[0], scar1=scars[1], BC1=a[1],ext='GAT'))\n",
    "print(part2(scar1=scars[1], scar2=scars[2], BC2=a[2])) #TTGCGGAA\n",
    "print(part3(scar2=scars[2], scar3=scars[3], BC3=a[2]), rev_complement(scars[3])[::-1])"
   ]
  },
  {
   "cell_type": "code",
   "execution_count": 13,
   "metadata": {},
   "outputs": [],
   "source": [
    "fname1 = './BC1_Primers_v2'\n",
    "fname2 = './SP1_Primers_v2'\n",
    "\n",
    "if os.path.isfile(fname1):\n",
    "    raise ValueError('file already exists')\n",
    "\n",
    "with open(fname1, 'w') as f1:\n",
    "    with open(fname2, 'w') as f2:\n",
    "        f1.write('WellPosition, Name, Sequence, Barcode\\n')\n",
    "        f2.write('WellPosition, Name, Sequence, Barcode\\n')\n",
    "        for i, (bc, sp) in enumerate(zip(barcodes1, splints1)):\n",
    "            f1.write('{0}{1}, CD1_{2} sc0-ex-bar1-sc1, {3}, {4}\\n'.format(\n",
    "                'ABCDEFGH'[int(i/12)], i%12+1, i, bc, bc.split(' ')[2]))\n",
    "            f2.write('{0}{1}, CD1_{2} bar1*-ex*, {3}, {4}\\n'.format(\n",
    "                'ABCDEFGH'[int(i/12)], i%12+1, i, sp, bc.split(' ')[2]))\n",
    "        \n",
    "fname1 = './SP2_Primers_v2'\n",
    "fname2 = './BC2_Primers_v2'\n",
    "if os.path.isfile(fname1):\n",
    "    raise ValueError('file already exists')\n",
    "\n",
    "with open(fname1, 'w') as f1:\n",
    "    with open(fname2, 'w') as f2:\n",
    "        f1.write('WellPosition, Name, Sequence, Barcode\\n')\n",
    "        f2.write('WellPosition, Name, Sequence, Barcode\\n')\n",
    "        for i, (bc, sp) in enumerate(zip(barcodes2, splints2)):\n",
    "            f1.write('{0}{1}, CD1_{2} bar2, {3}, {4}\\n'.format(\n",
    "                'ABCDEFGH'[int(i/12)], i%12+1, i, bc, bc))\n",
    "            f2.write('{0}{1}, CD1_{2} sc2*-bar2*-sc1, {3}, {4}\\n'.format(\n",
    "                'ABCDEFGH'[int(i/12)], i%12+1, i, sp, bc))\n",
    "\n",
    "fname1 = './BC3_Primers_v2'\n",
    "fname2 = './SP3_Primers_v2'\n",
    "if os.path.isfile(fname1):\n",
    "    raise ValueError('file already exists')\n",
    "\n",
    "with open(fname1, 'w') as f1:\n",
    "    with open(fname2, 'w') as f2:\n",
    "        f1.write('WellPosition, Name, Sequence, Barcode\\n')\n",
    "        f2.write('WellPosition, Name, Sequence, Barcode\\n')\n",
    "        for i, (bc, sp) in enumerate(zip(barcodes3, splints3)):\n",
    "            f1.write('{0}{1}, CD1_{2} sc2-bar3-sc3, {3}, {4}\\n'.format(\n",
    "                'ABCDEFGH'[int(i/12)], i%12+1, i, bc, bc.split(' ')[1]))\n",
    "            f2.write('{0}{1}, CD1_{2} bar3*, {3}, {4}\\n'.format(\n",
    "                'ABCDEFGH'[int(i/12)], i%12+1, i, sp, bc.split(' ')[1]))"
   ]
  },
  {
   "cell_type": "code",
   "execution_count": null,
   "metadata": {},
   "outputs": [],
   "source": []
  }
 ],
 "metadata": {
  "kernelspec": {
   "display_name": "Python 3",
   "language": "python",
   "name": "python3"
  },
  "language_info": {
   "codemirror_mode": {
    "name": "ipython",
    "version": 3
   },
   "file_extension": ".py",
   "mimetype": "text/x-python",
   "name": "python",
   "nbconvert_exporter": "python",
   "pygments_lexer": "ipython3",
   "version": "3.6.9"
  }
 },
 "nbformat": 4,
 "nbformat_minor": 2
}
